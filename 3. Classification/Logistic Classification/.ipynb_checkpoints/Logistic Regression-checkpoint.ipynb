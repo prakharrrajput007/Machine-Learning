{
 "cells": [
  {
   "cell_type": "code",
   "execution_count": null,
   "id": "863a1417",
   "metadata": {},
   "outputs": [],
   "source": [
    "import numpy as np\n",
    "import matplotlib.pyplot as plt\n",
    "import pandas as pd"
   ]
  },
  {
   "cell_type": "code",
   "execution_count": null,
   "id": "96d73535",
   "metadata": {},
   "outputs": [],
   "source": [
    "dataset = pd.read_csv('Social_Network_Ads.csv')\n",
    "X=dataset.iloc[:,:-1].values\n",
    "Y=dataset.iloc[:,-1].values"
   ]
  },
  {
   "cell_type": "code",
   "execution_count": null,
   "id": "7266da0f",
   "metadata": {},
   "outputs": [],
   "source": [
    "from sklearn.model_selection import train_test_split\n",
    "train_X,test_X,train_Y,test_Y=train_test_split(X,Y,train_size=.80,random_state=0)"
   ]
  },
  {
   "cell_type": "code",
   "execution_count": null,
   "id": "9e2812a6",
   "metadata": {},
   "outputs": [],
   "source": [
    "print(train_X)"
   ]
  },
  {
   "cell_type": "code",
   "execution_count": null,
   "id": "3726b24a",
   "metadata": {},
   "outputs": [],
   "source": [
    "print(train_Y)"
   ]
  },
  {
   "cell_type": "code",
   "execution_count": null,
   "id": "38c1ee75",
   "metadata": {},
   "outputs": [],
   "source": [
    "from sklearn.preprocessing import StandardScaler\n",
    "sc=StandardScaler()\n",
    "train_X=sc.fit_transform(train_X)\n",
    "test_X=sc.transform(test_X) ###feature sclaing is npot necessary but we're still applying it to improve training performance"
   ]
  },
  {
   "cell_type": "code",
   "execution_count": null,
   "id": "ac4aa79b",
   "metadata": {},
   "outputs": [],
   "source": [
    "print(train_X)\n"
   ]
  },
  {
   "cell_type": "code",
   "execution_count": null,
   "id": "7fec4c2e",
   "metadata": {},
   "outputs": [],
   "source": [
    "print(test_X)"
   ]
  },
  {
   "cell_type": "code",
   "execution_count": null,
   "id": "0a906d28",
   "metadata": {},
   "outputs": [],
   "source": [
    "##logistic model\n",
    "from sklearn.linear_model import LogisticRegression\n",
    "Classifier=LogisticRegression(random_state=0)\n",
    "Classifier.fit(train_X,train_Y)"
   ]
  },
  {
   "cell_type": "code",
   "execution_count": null,
   "id": "5f594663",
   "metadata": {},
   "outputs": [],
   "source": [
    "print(Classifier.predict(sc.transform([[32,150000]])))"
   ]
  },
  {
   "cell_type": "code",
   "execution_count": null,
   "id": "abfaa415",
   "metadata": {},
   "outputs": [],
   "source": [
    "y_pred = Classifier.predict(test_X) #predicting our test result \n",
    "print(np.concatenate((y_pred.reshape(len(y_pred),1),test_Y.reshape(len(test_Y),1)),1))"
   ]
  },
  {
   "cell_type": "code",
   "execution_count": null,
   "id": "4e0348d5",
   "metadata": {},
   "outputs": [],
   "source": [
    "## making the confusion matrix\n",
    "from sklearn.metrics import confusion_matrix\n",
    "confusion_matrix(te,y_pred)"
   ]
  }
 ],
 "metadata": {
  "kernelspec": {
   "display_name": "Python 3 (ipykernel)",
   "language": "python",
   "name": "python3"
  },
  "language_info": {
   "codemirror_mode": {
    "name": "ipython",
    "version": 3
   },
   "file_extension": ".py",
   "mimetype": "text/x-python",
   "name": "python",
   "nbconvert_exporter": "python",
   "pygments_lexer": "ipython3",
   "version": "3.8.8"
  }
 },
 "nbformat": 4,
 "nbformat_minor": 5
}
