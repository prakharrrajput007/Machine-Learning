{
 "cells": [
  {
   "cell_type": "code",
   "execution_count": 1,
   "id": "0a70595b",
   "metadata": {},
   "outputs": [
    {
     "data": {
      "text/plain": [
       "'2.3.0'"
      ]
     },
     "execution_count": 1,
     "metadata": {},
     "output_type": "execute_result"
    }
   ],
   "source": [
    "import numpy as np \n",
    "import pandas as pd\n",
    "import tensorflow as tf\n",
    "tf.__version__"
   ]
  },
  {
   "cell_type": "code",
   "execution_count": 2,
   "id": "2875f954",
   "metadata": {},
   "outputs": [
    {
     "name": "stdout",
     "output_type": "stream",
     "text": [
      "[[619 'France' 'Female' ... 1 1 101348.88]\n",
      " [608 'Spain' 'Female' ... 0 1 112542.58]\n",
      " [502 'France' 'Female' ... 1 0 113931.57]\n",
      " ...\n",
      " [709 'France' 'Female' ... 0 1 42085.58]\n",
      " [772 'Germany' 'Male' ... 1 0 92888.52]\n",
      " [792 'France' 'Female' ... 1 0 38190.78]]\n",
      "[1 0 1 ... 1 1 0]\n"
     ]
    },
    {
     "data": {
      "text/plain": [
       "<bound method NDFrame.head of       RowNumber  CustomerId    Surname  CreditScore Geography  Gender  Age  \\\n",
       "0             1    15634602   Hargrave          619    France  Female   42   \n",
       "1             2    15647311       Hill          608     Spain  Female   41   \n",
       "2             3    15619304       Onio          502    France  Female   42   \n",
       "3             4    15701354       Boni          699    France  Female   39   \n",
       "4             5    15737888   Mitchell          850     Spain  Female   43   \n",
       "...         ...         ...        ...          ...       ...     ...  ...   \n",
       "9995       9996    15606229   Obijiaku          771    France    Male   39   \n",
       "9996       9997    15569892  Johnstone          516    France    Male   35   \n",
       "9997       9998    15584532        Liu          709    France  Female   36   \n",
       "9998       9999    15682355  Sabbatini          772   Germany    Male   42   \n",
       "9999      10000    15628319     Walker          792    France  Female   28   \n",
       "\n",
       "      Tenure    Balance  NumOfProducts  HasCrCard  IsActiveMember  \\\n",
       "0          2       0.00              1          1               1   \n",
       "1          1   83807.86              1          0               1   \n",
       "2          8  159660.80              3          1               0   \n",
       "3          1       0.00              2          0               0   \n",
       "4          2  125510.82              1          1               1   \n",
       "...      ...        ...            ...        ...             ...   \n",
       "9995       5       0.00              2          1               0   \n",
       "9996      10   57369.61              1          1               1   \n",
       "9997       7       0.00              1          0               1   \n",
       "9998       3   75075.31              2          1               0   \n",
       "9999       4  130142.79              1          1               0   \n",
       "\n",
       "      EstimatedSalary  Exited  \n",
       "0           101348.88       1  \n",
       "1           112542.58       0  \n",
       "2           113931.57       1  \n",
       "3            93826.63       0  \n",
       "4            79084.10       0  \n",
       "...               ...     ...  \n",
       "9995         96270.64       0  \n",
       "9996        101699.77       0  \n",
       "9997         42085.58       1  \n",
       "9998         92888.52       1  \n",
       "9999         38190.78       0  \n",
       "\n",
       "[10000 rows x 14 columns]>"
      ]
     },
     "execution_count": 2,
     "metadata": {},
     "output_type": "execute_result"
    }
   ],
   "source": [
    "dataset = pd.read_csv('Churn_Modelling.csv')\n",
    "X = dataset.iloc[:, 3:-1].values\n",
    "y = dataset.iloc[:, -1].values\n",
    "print(X)\n",
    "print(y)\n",
    "dataset.head"
   ]
  },
  {
   "cell_type": "code",
   "execution_count": 3,
   "id": "58fd980d",
   "metadata": {},
   "outputs": [
    {
     "name": "stdout",
     "output_type": "stream",
     "text": [
      "[[619 'France' 0 ... 1 1 101348.88]\n",
      " [608 'Spain' 0 ... 0 1 112542.58]\n",
      " [502 'France' 0 ... 1 0 113931.57]\n",
      " ...\n",
      " [709 'France' 0 ... 0 1 42085.58]\n",
      " [772 'Germany' 1 ... 1 0 92888.52]\n",
      " [792 'France' 0 ... 1 0 38190.78]]\n"
     ]
    }
   ],
   "source": [
    "# Label Encoding the \"Gender\" column\n",
    "from sklearn.preprocessing import LabelEncoder\n",
    "le = LabelEncoder()\n",
    "X[:, 2] = le.fit_transform(X[:, 2])\n",
    "print(X)"
   ]
  },
  {
   "cell_type": "code",
   "execution_count": 4,
   "id": "a264690e",
   "metadata": {},
   "outputs": [
    {
     "name": "stdout",
     "output_type": "stream",
     "text": [
      "[[1.0 0.0 0.0 ... 1 1 101348.88]\n",
      " [0.0 0.0 1.0 ... 0 1 112542.58]\n",
      " [1.0 0.0 0.0 ... 1 0 113931.57]\n",
      " ...\n",
      " [1.0 0.0 0.0 ... 0 1 42085.58]\n",
      " [0.0 1.0 0.0 ... 1 0 92888.52]\n",
      " [1.0 0.0 0.0 ... 1 0 38190.78]]\n"
     ]
    }
   ],
   "source": [
    "# One Hot Encoding the \"Geography\" column\n",
    "from sklearn.compose import ColumnTransformer\n",
    "from sklearn.preprocessing import OneHotEncoder\n",
    "ct = ColumnTransformer(transformers=[('encoder', OneHotEncoder(), [1])], remainder='passthrough')\n",
    "X = np.array(ct.fit_transform(X))\n",
    "print(X)"
   ]
  },
  {
   "cell_type": "code",
   "execution_count": 5,
   "id": "ac01daf9",
   "metadata": {},
   "outputs": [],
   "source": [
    "# Splitting the dataset into the Training set and Test set\n",
    "from sklearn.model_selection import train_test_split\n",
    "X_train, X_test, y_train, y_test = train_test_split(X, y, test_size = 0.2, random_state = 0)\n"
   ]
  },
  {
   "cell_type": "code",
   "execution_count": 6,
   "id": "31e9bb10",
   "metadata": {},
   "outputs": [],
   "source": [
    "# Feature Scaling\n",
    "from sklearn.preprocessing import StandardScaler\n",
    "sc = StandardScaler()\n",
    "X_train = sc.fit_transform(X_train)\n",
    "X_test = sc.transform(X_test)"
   ]
  },
  {
   "cell_type": "code",
   "execution_count": 7,
   "id": "07d39fce",
   "metadata": {},
   "outputs": [],
   "source": [
    "#building our model \n",
    "ann=tf.keras.models.Sequential()"
   ]
  },
  {
   "cell_type": "code",
   "execution_count": 8,
   "id": "0f3e9f37",
   "metadata": {},
   "outputs": [],
   "source": [
    "#building input and hidden layer\n",
    "ann.add(tf.keras.layers.Dense(units=5,activation='relu'))"
   ]
  },
  {
   "cell_type": "code",
   "execution_count": 9,
   "id": "6dd06588",
   "metadata": {},
   "outputs": [],
   "source": [
    "#second layer\n",
    "ann.add(tf.keras.layers.Dense(units=7,activation='relu'))"
   ]
  },
  {
   "cell_type": "code",
   "execution_count": 10,
   "id": "c20fa89b",
   "metadata": {},
   "outputs": [],
   "source": [
    "#output layer\n",
    "ann.add(tf.keras.layers.Dense(units=1,activation='sigmoid'))"
   ]
  },
  {
   "cell_type": "code",
   "execution_count": 11,
   "id": "a8973aae",
   "metadata": {},
   "outputs": [],
   "source": [
    "ann.compile(optimizer='adam',loss='binary_crossentropy',metrics=['accuracy'])# for binary classification nd for \n",
    "#non binary classification must be catergorical_crossentropy"
   ]
  },
  {
   "cell_type": "code",
   "execution_count": 12,
   "id": "acd856c2",
   "metadata": {},
   "outputs": [
    {
     "name": "stdout",
     "output_type": "stream",
     "text": [
      "Epoch 1/100\n",
      "250/250 [==============================] - 0s 696us/step - loss: 0.6276 - accuracy: 0.7495\n",
      "Epoch 2/100\n",
      "250/250 [==============================] - 0s 760us/step - loss: 0.5145 - accuracy: 0.7986\n",
      "Epoch 3/100\n",
      "250/250 [==============================] - 0s 798us/step - loss: 0.4556 - accuracy: 0.8089\n",
      "Epoch 4/100\n",
      "250/250 [==============================] - 0s 784us/step - loss: 0.4321 - accuracy: 0.8130\n",
      "Epoch 5/100\n",
      "250/250 [==============================] - 0s 861us/step - loss: 0.4190 - accuracy: 0.8185\n",
      "Epoch 6/100\n",
      "250/250 [==============================] - 0s 806us/step - loss: 0.4083 - accuracy: 0.8198\n",
      "Epoch 7/100\n",
      "250/250 [==============================] - 0s 743us/step - loss: 0.4003 - accuracy: 0.8186\n",
      "Epoch 8/100\n",
      "250/250 [==============================] - 0s 741us/step - loss: 0.3949 - accuracy: 0.8190\n",
      "Epoch 9/100\n",
      "250/250 [==============================] - 0s 902us/step - loss: 0.3907 - accuracy: 0.8199\n",
      "Epoch 10/100\n",
      "250/250 [==============================] - 0s 696us/step - loss: 0.3871 - accuracy: 0.8204\n",
      "Epoch 11/100\n",
      "250/250 [==============================] - 0s 749us/step - loss: 0.3839 - accuracy: 0.8214\n",
      "Epoch 12/100\n",
      "250/250 [==============================] - 0s 741us/step - loss: 0.3811 - accuracy: 0.81980s - loss: 0.3688 - accuracy: \n",
      "Epoch 13/100\n",
      "250/250 [==============================] - 0s 791us/step - loss: 0.3784 - accuracy: 0.8180\n",
      "Epoch 14/100\n",
      "250/250 [==============================] - 0s 802us/step - loss: 0.3760 - accuracy: 0.8192\n",
      "Epoch 15/100\n",
      "250/250 [==============================] - 0s 808us/step - loss: 0.3743 - accuracy: 0.8213\n",
      "Epoch 16/100\n",
      "250/250 [==============================] - 0s 860us/step - loss: 0.3720 - accuracy: 0.8215\n",
      "Epoch 17/100\n",
      "250/250 [==============================] - 0s 902us/step - loss: 0.3696 - accuracy: 0.8221\n",
      "Epoch 18/100\n",
      "250/250 [==============================] - 0s 867us/step - loss: 0.3686 - accuracy: 0.8255\n",
      "Epoch 19/100\n",
      "250/250 [==============================] - 0s 923us/step - loss: 0.3673 - accuracy: 0.8456\n",
      "Epoch 20/100\n",
      "250/250 [==============================] - 0s 1ms/step - loss: 0.3655 - accuracy: 0.8464\n",
      "Epoch 21/100\n",
      "250/250 [==============================] - 0s 2ms/step - loss: 0.3644 - accuracy: 0.8505\n",
      "Epoch 22/100\n",
      "250/250 [==============================] - 0s 1ms/step - loss: 0.3633 - accuracy: 0.8486\n",
      "Epoch 23/100\n",
      "250/250 [==============================] - 0s 1ms/step - loss: 0.3616 - accuracy: 0.8526\n",
      "Epoch 24/100\n",
      "250/250 [==============================] - 0s 996us/step - loss: 0.3603 - accuracy: 0.8531\n",
      "Epoch 25/100\n",
      "250/250 [==============================] - 0s 1ms/step - loss: 0.3595 - accuracy: 0.8543\n",
      "Epoch 26/100\n",
      "250/250 [==============================] - 0s 2ms/step - loss: 0.3587 - accuracy: 0.8553\n",
      "Epoch 27/100\n",
      "250/250 [==============================] - 0s 959us/step - loss: 0.3577 - accuracy: 0.8556\n",
      "Epoch 28/100\n",
      "250/250 [==============================] - 0s 807us/step - loss: 0.3564 - accuracy: 0.8556\n",
      "Epoch 29/100\n",
      "250/250 [==============================] - 0s 789us/step - loss: 0.3552 - accuracy: 0.8562\n",
      "Epoch 30/100\n",
      "250/250 [==============================] - 0s 707us/step - loss: 0.3543 - accuracy: 0.8566\n",
      "Epoch 31/100\n",
      "250/250 [==============================] - 0s 741us/step - loss: 0.3534 - accuracy: 0.8583\n",
      "Epoch 32/100\n",
      "250/250 [==============================] - 0s 919us/step - loss: 0.3521 - accuracy: 0.8572\n",
      "Epoch 33/100\n",
      "250/250 [==============================] - 0s 898us/step - loss: 0.3514 - accuracy: 0.8580\n",
      "Epoch 34/100\n",
      "250/250 [==============================] - 0s 874us/step - loss: 0.3501 - accuracy: 0.8597\n",
      "Epoch 35/100\n",
      "250/250 [==============================] - 0s 1ms/step - loss: 0.3496 - accuracy: 0.8609\n",
      "Epoch 36/100\n",
      "250/250 [==============================] - 0s 903us/step - loss: 0.3486 - accuracy: 0.8593\n",
      "Epoch 37/100\n",
      "250/250 [==============================] - 0s 980us/step - loss: 0.3479 - accuracy: 0.8615\n",
      "Epoch 38/100\n",
      "250/250 [==============================] - 0s 979us/step - loss: 0.3469 - accuracy: 0.8612\n",
      "Epoch 39/100\n",
      "250/250 [==============================] - 0s 778us/step - loss: 0.3464 - accuracy: 0.8622\n",
      "Epoch 40/100\n",
      "250/250 [==============================] - 0s 1ms/step - loss: 0.3455 - accuracy: 0.8619\n",
      "Epoch 41/100\n",
      "250/250 [==============================] - 0s 864us/step - loss: 0.3447 - accuracy: 0.8631\n",
      "Epoch 42/100\n",
      "250/250 [==============================] - 0s 820us/step - loss: 0.3442 - accuracy: 0.8621\n",
      "Epoch 43/100\n",
      "250/250 [==============================] - 0s 817us/step - loss: 0.3434 - accuracy: 0.8624\n",
      "Epoch 44/100\n",
      "250/250 [==============================] - 0s 798us/step - loss: 0.3431 - accuracy: 0.8621\n",
      "Epoch 45/100\n",
      "250/250 [==============================] - 0s 818us/step - loss: 0.3423 - accuracy: 0.8631\n",
      "Epoch 46/100\n",
      "250/250 [==============================] - 0s 893us/step - loss: 0.3423 - accuracy: 0.8625\n",
      "Epoch 47/100\n",
      "250/250 [==============================] - 0s 880us/step - loss: 0.3422 - accuracy: 0.8619\n",
      "Epoch 48/100\n",
      "250/250 [==============================] - 0s 854us/step - loss: 0.3413 - accuracy: 0.8639\n",
      "Epoch 49/100\n",
      "250/250 [==============================] - 0s 985us/step - loss: 0.3409 - accuracy: 0.8633\n",
      "Epoch 50/100\n",
      "250/250 [==============================] - 0s 1ms/step - loss: 0.3413 - accuracy: 0.8635\n",
      "Epoch 51/100\n",
      "250/250 [==============================] - 0s 1ms/step - loss: 0.3406 - accuracy: 0.8641\n",
      "Epoch 52/100\n",
      "250/250 [==============================] - 0s 1ms/step - loss: 0.3408 - accuracy: 0.8615\n",
      "Epoch 53/100\n",
      "250/250 [==============================] - 0s 913us/step - loss: 0.3398 - accuracy: 0.8636\n",
      "Epoch 54/100\n",
      "250/250 [==============================] - 0s 806us/step - loss: 0.3401 - accuracy: 0.8631\n",
      "Epoch 55/100\n",
      "250/250 [==============================] - 0s 790us/step - loss: 0.3393 - accuracy: 0.8640\n",
      "Epoch 56/100\n",
      "250/250 [==============================] - 0s 809us/step - loss: 0.3390 - accuracy: 0.8626\n",
      "Epoch 57/100\n",
      "250/250 [==============================] - 0s 794us/step - loss: 0.3392 - accuracy: 0.8622\n",
      "Epoch 58/100\n",
      "250/250 [==============================] - 0s 818us/step - loss: 0.3389 - accuracy: 0.8624\n",
      "Epoch 59/100\n",
      "250/250 [==============================] - 0s 990us/step - loss: 0.3384 - accuracy: 0.8635\n",
      "Epoch 60/100\n",
      "250/250 [==============================] - 0s 1ms/step - loss: 0.3381 - accuracy: 0.8633\n",
      "Epoch 61/100\n",
      "250/250 [==============================] - 0s 788us/step - loss: 0.3384 - accuracy: 0.8636\n",
      "Epoch 62/100\n",
      "250/250 [==============================] - 0s 728us/step - loss: 0.3378 - accuracy: 0.8639\n",
      "Epoch 63/100\n",
      "250/250 [==============================] - 0s 775us/step - loss: 0.3381 - accuracy: 0.8633\n",
      "Epoch 64/100\n",
      "250/250 [==============================] - 0s 854us/step - loss: 0.3377 - accuracy: 0.8636\n",
      "Epoch 65/100\n",
      "250/250 [==============================] - 0s 873us/step - loss: 0.3376 - accuracy: 0.8636\n",
      "Epoch 66/100\n",
      "250/250 [==============================] - 0s 1ms/step - loss: 0.3368 - accuracy: 0.8636\n",
      "Epoch 67/100\n",
      "250/250 [==============================] - 0s 1ms/step - loss: 0.3368 - accuracy: 0.8637\n",
      "Epoch 68/100\n",
      "250/250 [==============================] - 0s 1ms/step - loss: 0.3366 - accuracy: 0.8661\n",
      "Epoch 69/100\n",
      "250/250 [==============================] - 0s 1ms/step - loss: 0.3370 - accuracy: 0.8637\n",
      "Epoch 70/100\n",
      "250/250 [==============================] - 0s 1ms/step - loss: 0.3363 - accuracy: 0.8640\n",
      "Epoch 71/100\n",
      "250/250 [==============================] - 0s 1ms/step - loss: 0.3358 - accuracy: 0.8640\n",
      "Epoch 72/100\n",
      "250/250 [==============================] - 0s 988us/step - loss: 0.3354 - accuracy: 0.8652\n",
      "Epoch 73/100\n",
      "250/250 [==============================] - 0s 1ms/step - loss: 0.3354 - accuracy: 0.8637\n",
      "Epoch 74/100\n",
      "250/250 [==============================] - 0s 1ms/step - loss: 0.3351 - accuracy: 0.8633\n",
      "Epoch 75/100\n",
      "250/250 [==============================] - 0s 883us/step - loss: 0.3352 - accuracy: 0.8644\n",
      "Epoch 76/100\n",
      "250/250 [==============================] - 0s 891us/step - loss: 0.3348 - accuracy: 0.8644\n",
      "Epoch 77/100\n",
      "250/250 [==============================] - 0s 910us/step - loss: 0.3346 - accuracy: 0.8645\n",
      "Epoch 78/100\n",
      "250/250 [==============================] - 0s 957us/step - loss: 0.3345 - accuracy: 0.8643\n",
      "Epoch 79/100\n",
      "250/250 [==============================] - 0s 1ms/step - loss: 0.3347 - accuracy: 0.8643\n"
     ]
    },
    {
     "name": "stdout",
     "output_type": "stream",
     "text": [
      "Epoch 80/100\n",
      "250/250 [==============================] - 0s 922us/step - loss: 0.3343 - accuracy: 0.8659\n",
      "Epoch 81/100\n",
      "250/250 [==============================] - 0s 771us/step - loss: 0.3342 - accuracy: 0.8635\n",
      "Epoch 82/100\n",
      "250/250 [==============================] - 0s 705us/step - loss: 0.3339 - accuracy: 0.8662\n",
      "Epoch 83/100\n",
      "250/250 [==============================] - 0s 764us/step - loss: 0.3337 - accuracy: 0.8646\n",
      "Epoch 84/100\n",
      "250/250 [==============================] - 0s 795us/step - loss: 0.3334 - accuracy: 0.8648\n",
      "Epoch 85/100\n",
      "250/250 [==============================] - 0s 831us/step - loss: 0.3341 - accuracy: 0.8651\n",
      "Epoch 86/100\n",
      "250/250 [==============================] - 0s 742us/step - loss: 0.3339 - accuracy: 0.8633\n",
      "Epoch 87/100\n",
      "250/250 [==============================] - 0s 756us/step - loss: 0.3341 - accuracy: 0.8644\n",
      "Epoch 88/100\n",
      "250/250 [==============================] - 0s 795us/step - loss: 0.3337 - accuracy: 0.8659\n",
      "Epoch 89/100\n",
      "250/250 [==============================] - 0s 753us/step - loss: 0.3338 - accuracy: 0.8660\n",
      "Epoch 90/100\n",
      "250/250 [==============================] - 0s 716us/step - loss: 0.3332 - accuracy: 0.8656\n",
      "Epoch 91/100\n",
      "250/250 [==============================] - 0s 748us/step - loss: 0.3327 - accuracy: 0.8659\n",
      "Epoch 92/100\n",
      "250/250 [==============================] - 0s 723us/step - loss: 0.3331 - accuracy: 0.8665\n",
      "Epoch 93/100\n",
      "250/250 [==============================] - 0s 965us/step - loss: 0.3329 - accuracy: 0.86590s - loss: 0.3316 - accuracy: 0.\n",
      "Epoch 94/100\n",
      "250/250 [==============================] - 0s 972us/step - loss: 0.3328 - accuracy: 0.8650\n",
      "Epoch 95/100\n",
      "250/250 [==============================] - 0s 1ms/step - loss: 0.3328 - accuracy: 0.8660\n",
      "Epoch 96/100\n",
      "250/250 [==============================] - 0s 998us/step - loss: 0.3324 - accuracy: 0.8644\n",
      "Epoch 97/100\n",
      "250/250 [==============================] - 0s 828us/step - loss: 0.3330 - accuracy: 0.8650\n",
      "Epoch 98/100\n",
      "250/250 [==============================] - 0s 913us/step - loss: 0.3323 - accuracy: 0.8658\n",
      "Epoch 99/100\n",
      "250/250 [==============================] - 0s 776us/step - loss: 0.3327 - accuracy: 0.8637\n",
      "Epoch 100/100\n",
      "250/250 [==============================] - 0s 876us/step - loss: 0.3328 - accuracy: 0.8651\n"
     ]
    },
    {
     "data": {
      "text/plain": [
       "<tensorflow.python.keras.callbacks.History at 0x2137a04b940>"
      ]
     },
     "execution_count": 12,
     "metadata": {},
     "output_type": "execute_result"
    }
   ],
   "source": [
    "ann.fit(X_train,y_train,batch_size=32,epochs=100)"
   ]
  },
  {
   "cell_type": "code",
   "execution_count": 13,
   "id": "3660d5ed",
   "metadata": {},
   "outputs": [
    {
     "name": "stdout",
     "output_type": "stream",
     "text": [
      "[[False]]\n"
     ]
    }
   ],
   "source": [
    "print(ann.predict(sc.transform([[1,1,0,600,1,40,3,60000,2, 1, 1, 50000]]))>0.5)"
   ]
  },
  {
   "cell_type": "code",
   "execution_count": 14,
   "id": "12df66a8",
   "metadata": {},
   "outputs": [
    {
     "name": "stdout",
     "output_type": "stream",
     "text": [
      "[[0 0]\n",
      " [0 1]\n",
      " [0 0]\n",
      " ...\n",
      " [0 0]\n",
      " [0 0]\n",
      " [0 0]]\n"
     ]
    }
   ],
   "source": [
    "#predicting the test results\n",
    "y_pred = ann.predict(X_test)\n",
    "y_pred = (y_pred > 0.5)\n",
    "print(np.concatenate((y_pred.reshape(len(y_pred),1), y_test.reshape(len(y_test),1)),1))"
   ]
  },
  {
   "cell_type": "code",
   "execution_count": 15,
   "id": "7357fb26",
   "metadata": {},
   "outputs": [
    {
     "name": "stdout",
     "output_type": "stream",
     "text": [
      "[[1511   84]\n",
      " [ 189  216]]\n"
     ]
    },
    {
     "data": {
      "text/plain": [
       "0.8635"
      ]
     },
     "execution_count": 15,
     "metadata": {},
     "output_type": "execute_result"
    }
   ],
   "source": [
    "# Making the Confusion Matrix\n",
    "from sklearn.metrics import confusion_matrix, accuracy_score\n",
    "cm = confusion_matrix(y_test, y_pred)\n",
    "print(cm)\n",
    "accuracy_score(y_test, y_pred)"
   ]
  },
  {
   "cell_type": "code",
   "execution_count": null,
   "id": "7483edbe",
   "metadata": {},
   "outputs": [],
   "source": []
  }
 ],
 "metadata": {
  "kernelspec": {
   "display_name": "Python 3 (ipykernel)",
   "language": "python",
   "name": "python3"
  },
  "language_info": {
   "codemirror_mode": {
    "name": "ipython",
    "version": 3
   },
   "file_extension": ".py",
   "mimetype": "text/x-python",
   "name": "python",
   "nbconvert_exporter": "python",
   "pygments_lexer": "ipython3",
   "version": "3.8.8"
  }
 },
 "nbformat": 4,
 "nbformat_minor": 5
}
