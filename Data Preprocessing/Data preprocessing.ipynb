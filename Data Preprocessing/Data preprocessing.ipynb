{
 "cells": [
  {
   "cell_type": "code",
   "execution_count": 1,
   "id": "59740124",
   "metadata": {},
   "outputs": [],
   "source": [
    "import numpy as np; ####vnik\n",
    "import matplotlib.pyplot as plt\n",
    "import pandas as pd\n"
   ]
  },
  {
   "cell_type": "code",
   "execution_count": 3,
   "id": "20d2737d",
   "metadata": {},
   "outputs": [],
   "source": [
    "###library imported\n",
    "###Pandas acts as a wrapper over these libraries, allowing you to access many of matplotlib's and NumPy's methods with less code."
   ]
  },
  {
   "cell_type": "code",
   "execution_count": 4,
   "id": "83ee95eb",
   "metadata": {},
   "outputs": [],
   "source": [
    "dataset = pd.read_csv(\"Data.csv\")\n",
    "A = dataset.iloc[:, :-1].values #####[:, :-1] the colans before comma is for including all the rows of the data set and :-1 after comma represents all the column except the last one \n",
    "B = dataset.iloc[:, -1].values ######-1 gives the last column in our dataset because we dont have to use collans"
   ]
  },
  {
   "cell_type": "code",
   "execution_count": 5,
   "id": "53bff863",
   "metadata": {},
   "outputs": [
    {
     "name": "stdout",
     "output_type": "stream",
     "text": [
      "[['France' 44.0 72000.0]\n",
      " ['Spain' 27.0 48000.0]\n",
      " ['Germany' 30.0 54000.0]\n",
      " ['Spain' 38.0 61000.0]\n",
      " ['Germany' 40.0 nan]\n",
      " ['France' 35.0 58000.0]\n",
      " ['Spain' nan 52000.0]\n",
      " ['France' 48.0 79000.0]\n",
      " ['Germany' 50.0 83000.0]\n",
      " ['France' 37.0 67000.0]]\n"
     ]
    }
   ],
   "source": [
    "print(A)"
   ]
  },
  {
   "cell_type": "code",
   "execution_count": 6,
   "id": "d920aeb3",
   "metadata": {},
   "outputs": [
    {
     "name": "stdout",
     "output_type": "stream",
     "text": [
      "['No' 'Yes' 'No' 'No' 'Yes' 'Yes' 'No' 'Yes' 'No' 'Yes']\n"
     ]
    }
   ],
   "source": [
    "print(B)"
   ]
  },
  {
   "cell_type": "code",
   "execution_count": 7,
   "id": "c7acb46c",
   "metadata": {},
   "outputs": [],
   "source": [
    "# now importing dataset has been taken care of now moving to the next part"
   ]
  },
  {
   "cell_type": "code",
   "execution_count": 8,
   "id": "b0ea145d",
   "metadata": {},
   "outputs": [],
   "source": [
    "# now we are going to take care of missing data in our dataset"
   ]
  },
  {
   "cell_type": "code",
   "execution_count": 10,
   "id": "9940fbda",
   "metadata": {},
   "outputs": [],
   "source": [
    "from sklearn.impute import SimpleImputer\n",
    "imputer = SimpleImputer(missing_values=np.nan,strategy='mean')  #it replaces all the nan values in our dataset to the mean of their column\n",
    "imputer.fit(A[:,1:3])\n",
    "A[:,1:3]=imputer.transform(A[:,1:3]) #it will replace the missing values"
   ]
  },
  {
   "cell_type": "code",
   "execution_count": 11,
   "id": "c49f5a71",
   "metadata": {
    "scrolled": true
   },
   "outputs": [
    {
     "name": "stdout",
     "output_type": "stream",
     "text": [
      "[['France' 44.0 72000.0]\n",
      " ['Spain' 27.0 48000.0]\n",
      " ['Germany' 30.0 54000.0]\n",
      " ['Spain' 38.0 61000.0]\n",
      " ['Germany' 40.0 63777.77777777778]\n",
      " ['France' 35.0 58000.0]\n",
      " ['Spain' 38.77777777777778 52000.0]\n",
      " ['France' 48.0 79000.0]\n",
      " ['Germany' 50.0 83000.0]\n",
      " ['France' 37.0 67000.0]]\n"
     ]
    }
   ],
   "source": [
    "print(A)\n"
   ]
  },
  {
   "cell_type": "code",
   "execution_count": 12,
   "id": "3c7f34b2",
   "metadata": {},
   "outputs": [],
   "source": [
    "### now here we're going to encode categorical data"
   ]
  },
  {
   "cell_type": "code",
   "execution_count": 13,
   "id": "4a48cecf",
   "metadata": {},
   "outputs": [],
   "source": [
    "### encoding the independent variable "
   ]
  },
  {
   "cell_type": "code",
   "execution_count": 14,
   "id": "b01ee509",
   "metadata": {},
   "outputs": [],
   "source": [
    "from sklearn.compose import ColumnTransformer\n",
    "from sklearn.preprocessing import OneHotEncoder\n",
    "ct = ColumnTransformer(transformers=[('encoder',OneHotEncoder(),[0])] , remainder='passthrough') #onehotencoder turn the value of country in zero one code to make it understandable for system\n",
    "A=np.array(ct.fit_transform(A)) #np is because we want our output in numpy array"
   ]
  },
  {
   "cell_type": "code",
   "execution_count": 15,
   "id": "e6d6c357",
   "metadata": {
    "scrolled": true
   },
   "outputs": [
    {
     "name": "stdout",
     "output_type": "stream",
     "text": [
      "[[1.0 0.0 0.0 44.0 72000.0]\n",
      " [0.0 0.0 1.0 27.0 48000.0]\n",
      " [0.0 1.0 0.0 30.0 54000.0]\n",
      " [0.0 0.0 1.0 38.0 61000.0]\n",
      " [0.0 1.0 0.0 40.0 63777.77777777778]\n",
      " [1.0 0.0 0.0 35.0 58000.0]\n",
      " [0.0 0.0 1.0 38.77777777777778 52000.0]\n",
      " [1.0 0.0 0.0 48.0 79000.0]\n",
      " [0.0 1.0 0.0 50.0 83000.0]\n",
      " [1.0 0.0 0.0 37.0 67000.0]]\n"
     ]
    }
   ],
   "source": [
    "print(A)"
   ]
  },
  {
   "cell_type": "code",
   "execution_count": null,
   "id": "2c0f02d2",
   "metadata": {},
   "outputs": [],
   "source": []
  },
  {
   "cell_type": "code",
   "execution_count": 16,
   "id": "e9ea3b0b",
   "metadata": {},
   "outputs": [],
   "source": [
    "###encoding the dependent variable"
   ]
  },
  {
   "cell_type": "code",
   "execution_count": 18,
   "id": "7278e641",
   "metadata": {},
   "outputs": [],
   "source": [
    "from sklearn.preprocessing import LabelEncoder\n",
    "le=LabelEncoder()\n",
    "B=le.fit_transform(B) #we dont need numpy here becuse its a dependent variable\n"
   ]
  },
  {
   "cell_type": "code",
   "execution_count": 19,
   "id": "f1829eb4",
   "metadata": {},
   "outputs": [
    {
     "name": "stdout",
     "output_type": "stream",
     "text": [
      "[0 1 0 0 1 1 0 1 0 1]\n"
     ]
    }
   ],
   "source": [
    "print(B)"
   ]
  },
  {
   "cell_type": "code",
   "execution_count": 20,
   "id": "4eb7ecfd",
   "metadata": {},
   "outputs": [],
   "source": [
    "#now splitting the data set into training and testing set"
   ]
  },
  {
   "cell_type": "code",
   "execution_count": 21,
   "id": "f9ca5506",
   "metadata": {},
   "outputs": [],
   "source": [
    "from sklearn.model_selection import train_test_split\n",
    "train_X,test_X,train_Y,test_Y=train_test_split(A, B, test_size=.15,random_state=1)\n"
   ]
  },
  {
   "cell_type": "code",
   "execution_count": 22,
   "id": "33816d4c",
   "metadata": {},
   "outputs": [
    {
     "name": "stdout",
     "output_type": "stream",
     "text": [
      "[[0.0 0.0 1.0 38.77777777777778 52000.0]\n",
      " [0.0 1.0 0.0 40.0 63777.77777777778]\n",
      " [1.0 0.0 0.0 44.0 72000.0]\n",
      " [0.0 0.0 1.0 38.0 61000.0]\n",
      " [0.0 0.0 1.0 27.0 48000.0]\n",
      " [1.0 0.0 0.0 48.0 79000.0]\n",
      " [0.0 1.0 0.0 50.0 83000.0]\n",
      " [1.0 0.0 0.0 35.0 58000.0]]\n"
     ]
    }
   ],
   "source": [
    "print(train_X)"
   ]
  },
  {
   "cell_type": "code",
   "execution_count": 23,
   "id": "0b5151f8",
   "metadata": {},
   "outputs": [
    {
     "name": "stdout",
     "output_type": "stream",
     "text": [
      "[[0.0 1.0 0.0 30.0 54000.0]\n",
      " [1.0 0.0 0.0 37.0 67000.0]]\n"
     ]
    }
   ],
   "source": [
    "print(test_X)"
   ]
  },
  {
   "cell_type": "code",
   "execution_count": 24,
   "id": "1ca34f36",
   "metadata": {},
   "outputs": [
    {
     "name": "stdout",
     "output_type": "stream",
     "text": [
      "[0 1 0 0 1 1 0 1]\n"
     ]
    }
   ],
   "source": [
    "print(train_Y)"
   ]
  },
  {
   "cell_type": "code",
   "execution_count": 25,
   "id": "a68efa14",
   "metadata": {},
   "outputs": [
    {
     "name": "stdout",
     "output_type": "stream",
     "text": [
      "[0 1]\n"
     ]
    }
   ],
   "source": [
    "print(test_Y)"
   ]
  },
  {
   "cell_type": "code",
   "execution_count": 27,
   "id": "84bbb56e",
   "metadata": {},
   "outputs": [],
   "source": [
    "###Feature Scaling###"
   ]
  },
  {
   "cell_type": "code",
   "execution_count": 30,
   "id": "ef8f697a",
   "metadata": {},
   "outputs": [],
   "source": [
    "# #I will be discussing the top 5 of the most commonly used feature scaling techniques.\n",
    "# Absolute Maximum Scaling.\n",
    "# Min-Max Scaling.\n",
    "# Normalization.\n",
    "# Standardization.\n",
    "# Robust Scaling."
   ]
  },
  {
   "cell_type": "code",
   "execution_count": 33,
   "id": "609de171",
   "metadata": {},
   "outputs": [],
   "source": [
    "from sklearn.preprocessing import StandardScaler\n",
    "SS=StandardScaler()\n",
    "train_X[:,3:5]=SS.fit_transform(train_X[:,3:])\n",
    "test_X[:,3:5]=SS.transform(test_X[:,3:])#we use only transform because we want to test out data set with the same features as used in our train data set "
   ]
  },
  {
   "cell_type": "code",
   "execution_count": 34,
   "id": "209bd49e",
   "metadata": {},
   "outputs": [
    {
     "name": "stdout",
     "output_type": "stream",
     "text": [
      "[[0.0 0.0 1.0 -0.19159184384578545 -1.0781259408412425]\n",
      " [0.0 1.0 0.0 -0.014117293757057777 -0.07013167641635372]\n",
      " [1.0 0.0 0.0 0.566708506533324 0.633562432710455]\n",
      " [0.0 0.0 1.0 -0.30453019390224867 -0.30786617274297867]\n",
      " [0.0 0.0 1.0 -1.9018011447007988 -1.420463615551582]\n",
      " [1.0 0.0 0.0 1.1475343068237058 1.232653363453549]\n",
      " [0.0 1.0 0.0 1.4379472069688968 1.5749910381638885]\n",
      " [1.0 0.0 0.0 -0.7401495441200351 -0.5646194287757332]]\n"
     ]
    }
   ],
   "source": [
    "print(train_X)"
   ]
  },
  {
   "cell_type": "code",
   "execution_count": 36,
   "id": "14cc0ae3",
   "metadata": {},
   "outputs": [
    {
     "name": "stdout",
     "output_type": "stream",
     "text": [
      "[[0.0 1.0 0.0 -1.4661817944830124 -0.9069571034860727]\n",
      " [1.0 0.0 0.0 -0.44973664397484414 0.2056403393225306]]\n"
     ]
    }
   ],
   "source": [
    "print(test_X)"
   ]
  },
  {
   "cell_type": "code",
   "execution_count": 37,
   "id": "a0a3719a",
   "metadata": {},
   "outputs": [],
   "source": [
    "# Steps in Data Preprocessing in Machine Learning\n",
    "# Acquire the dataset. Acquiring the dataset is the first step in data preprocessing in machine learning. ...\n",
    "# Import all the crucial libraries. ...\n",
    "# Import the dataset. ...\n",
    "# Identifying and handling the missing values. ...\n",
    "# Encoding the categorical data. ...\n",
    "# Splitting the dataset. ...\n",
    "# Feature scaling."
   ]
  },
  {
   "cell_type": "code",
   "execution_count": null,
   "id": "84e403a9",
   "metadata": {},
   "outputs": [],
   "source": []
  }
 ],
 "metadata": {
  "kernelspec": {
   "display_name": "Python 3 (ipykernel)",
   "language": "python",
   "name": "python3"
  },
  "language_info": {
   "codemirror_mode": {
    "name": "ipython",
    "version": 3
   },
   "file_extension": ".py",
   "mimetype": "text/x-python",
   "name": "python",
   "nbconvert_exporter": "python",
   "pygments_lexer": "ipython3",
   "version": "3.8.8"
  }
 },
 "nbformat": 4,
 "nbformat_minor": 5
}
