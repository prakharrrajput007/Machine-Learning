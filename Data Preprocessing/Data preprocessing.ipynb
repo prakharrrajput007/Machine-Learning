{
 "cells": [
  {
   "cell_type": "code",
   "execution_count": 1,
   "id": "5d3c4831",
   "metadata": {},
   "outputs": [],
   "source": [
    "import numpy as np; ####vnik\n",
    "import matplotlib.pyplot as plt\n",
    "import pandas as pd\n"
   ]
  },
  {
   "cell_type": "code",
   "execution_count": 3,
   "id": "ec1ad494",
   "metadata": {},
   "outputs": [],
   "source": [
    "###library imported\n",
    "###Pandas acts as a wrapper over these libraries, allowing you to access many of matplotlib's and NumPy's methods with less code."
   ]
  },
  {
   "cell_type": "code",
   "execution_count": null,
   "id": "d2f020f2",
   "metadata": {},
   "outputs": [],
   "source": [
    "dataset = pd.read_csv(\"Data.csv\")\n",
    "A = dataset.iloc[:1,2,3]\n",
    "B = dataset."
   ]
  }
 ],
 "metadata": {
  "kernelspec": {
   "display_name": "Python 3 (ipykernel)",
   "language": "python",
   "name": "python3"
  },
  "language_info": {
   "codemirror_mode": {
    "name": "ipython",
    "version": 3
   },
   "file_extension": ".py",
   "mimetype": "text/x-python",
   "name": "python",
   "nbconvert_exporter": "python",
   "pygments_lexer": "ipython3",
   "version": "3.8.8"
  }
 },
 "nbformat": 4,
 "nbformat_minor": 5
}
